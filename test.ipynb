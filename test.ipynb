{
 "cells": [
  {
   "cell_type": "code",
   "execution_count": 1,
   "metadata": {},
   "outputs": [],
   "source": [
    "from sqlalchemy import *\n",
    "from app.db import engine\n",
    "from app import model\n"
   ]
  },
  {
   "cell_type": "code",
   "execution_count": 3,
   "metadata": {},
   "outputs": [
    {
     "name": "stdout",
     "output_type": "stream",
     "text": [
      "2022-03-10 08:30:04,120 INFO sqlalchemy.engine.Engine BEGIN (implicit)\n",
      "2022-03-10 08:30:04,121 INFO sqlalchemy.engine.Engine SELECT * FROM user\n",
      "2022-03-10 08:30:04,121 INFO sqlalchemy.engine.Engine [generated in 0.00174s] ()\n",
      "length is 4\n",
      "22\n",
      "monoafter1\n",
      "DkhoD33w2\n",
      "333\n",
      "===\n",
      "25\n",
      "monoTone\n",
      "c018300c-264b-47ae-a9e2-293bdc280acb\n",
      "12\n",
      "===\n",
      "26\n",
      "monoTone1\n",
      "004a1285-c77f-4064-b6f1-1b90686de1a7\n",
      "12\n",
      "===\n",
      "27\n",
      "monoTone1\n",
      "c2242b7a-407c-46ba-8979-e91d2460abe3\n",
      "12\n",
      "===\n"
     ]
    }
   ],
   "source": [
    "# 全部のデータを確認\n",
    "conn = engine.connect()\n",
    "result = conn.execute(text(\"SELECT * FROM user\"))\n",
    "rows = result.fetchall()\n",
    "print(f\"length is {len(rows)}\")\n",
    "for row in rows :\n",
    "    print(row.id)\n",
    "    print(row.name)\n",
    "    print(row.token)\n",
    "    print(row.leader_card_id)\n",
    "    print(\"===\")\n"
   ]
  },
  {
   "cell_type": "code",
   "execution_count": 13,
   "metadata": {},
   "outputs": [
    {
     "name": "stdout",
     "output_type": "stream",
     "text": [
      "2022-03-10 06:58:15,511 INFO sqlalchemy.engine.Engine INSERT INTO user ( name, token, leader_card_id) \n",
      "                  VALUES ( %s ,%s, %s) \n",
      "2022-03-10 06:58:15,512 INFO sqlalchemy.engine.Engine [generated in 0.00128s] ('monoTone', 'Kjkntwb', 1)\n"
     ]
    },
    {
     "data": {
      "text/plain": [
       "<sqlalchemy.engine.cursor.CursorResult at 0x7f2dc60054b0>"
      ]
     },
     "execution_count": 13,
     "metadata": {},
     "output_type": "execute_result"
    }
   ],
   "source": [
    "conn.execute(text(\"\"\"INSERT INTO user ( name, token, leader_card_id) \n",
    "                  VALUES ( :name ,:token, :leader_card_id) \"\"\"),\n",
    "             dict( name='monoTone', token='Kjkntwb', leader_card_id=1)\n",
    "             )"
   ]
  },
  {
   "cell_type": "code",
   "execution_count": 3,
   "metadata": {},
   "outputs": [
    {
     "name": "stdout",
     "output_type": "stream",
     "text": [
      "2022-03-10 07:55:59,339 INFO sqlalchemy.engine.Engine BEGIN (implicit)\n",
      "2022-03-10 07:55:59,340 INFO sqlalchemy.engine.Engine SELECT `id`, `name`, `leader_card_id` FROM user WHERE `token` =%s\n",
      "2022-03-10 07:55:59,341 INFO sqlalchemy.engine.Engine [generated in 0.00207s] ('DkhoD33w2',)\n",
      "(22, 'tai', 25)\n"
     ]
    },
    {
     "data": {
      "text/plain": [
       "' \\nfor i in result.fetchall():\\n    print(i)\\n\\n'"
      ]
     },
     "execution_count": 3,
     "metadata": {},
     "output_type": "execute_result"
    }
   ],
   "source": [
    "# select example\n",
    "result = conn.execute(text(\"SELECT `id`, `name`, `leader_card_id` FROM user WHERE `token` =:token\"),\n",
    "                      dict(token=\"DkhoD33w2\"))\n",
    "# dict内の変数；たとえばtokenは → :tokenに代入される\n",
    "\n",
    "    \n",
    "print(result.one())\n",
    "\n",
    "\"\"\" \n",
    "for i in result.fetchall():\n",
    "    print(i)\n",
    "\n",
    "\"\"\""
   ]
  },
  {
   "cell_type": "code",
   "execution_count": 5,
   "metadata": {},
   "outputs": [
    {
     "name": "stdout",
     "output_type": "stream",
     "text": [
      "2022-03-10 08:29:19,524 INFO sqlalchemy.engine.Engine SELECT `id`, `name`, `leader_card_id` FROM user WHERE `token` =%s\n",
      "2022-03-10 08:29:19,525 INFO sqlalchemy.engine.Engine [generated in 0.00104s] ('DkhoD33w2',)\n"
     ]
    },
    {
     "data": {
      "text/plain": [
       "SafeUser(id=22, name='monoafter', leader_card_id=333)"
      ]
     },
     "execution_count": 5,
     "metadata": {},
     "output_type": "execute_result"
    }
   ],
   "source": [
    "model._get_user_by_token(conn,str(\"DkhoD33w2\"))"
   ]
  },
  {
   "cell_type": "code",
   "execution_count": 20,
   "metadata": {},
   "outputs": [
    {
     "data": {
      "text/plain": [
       "<module 'app.model' from '/workspaces/gameserver/app/model.py'>"
      ]
     },
     "execution_count": 20,
     "metadata": {},
     "output_type": "execute_result"
    }
   ],
   "source": [
    "import imp\n",
    "imp.reload(model)"
   ]
  },
  {
   "cell_type": "code",
   "execution_count": 6,
   "metadata": {},
   "outputs": [
    {
     "name": "stdout",
     "output_type": "stream",
     "text": [
      "2022-03-10 08:29:33,975 INFO sqlalchemy.engine.Engine BEGIN (implicit)\n",
      "2022-03-10 08:29:33,976 INFO sqlalchemy.engine.Engine  UPDATE user SET name = %s, \n",
      "                     leader_card_id = %s WHERE token = %s \n",
      "2022-03-10 08:29:33,976 INFO sqlalchemy.engine.Engine [generated in 0.00062s] ('monoafter1', 333, 'DkhoD33w2')\n",
      "2022-03-10 08:29:33,977 INFO sqlalchemy.engine.Engine COMMIT\n"
     ]
    }
   ],
   "source": [
    "model.update_user(_token = \"DkhoD33w2\", _name=\"monoafter1\", _leader_card_id=333)"
   ]
  },
  {
   "cell_type": "code",
   "execution_count": null,
   "metadata": {},
   "outputs": [],
   "source": []
  }
 ],
 "metadata": {
  "interpreter": {
   "hash": "86c35c488403ca8a76c23929436815248fd5d548e5d43e33b9dae693b5d3749c"
  },
  "kernelspec": {
   "display_name": "Python 3.10.2 ('venv': venv)",
   "language": "python",
   "name": "python3"
  },
  "language_info": {
   "codemirror_mode": {
    "name": "ipython",
    "version": 3
   },
   "file_extension": ".py",
   "mimetype": "text/x-python",
   "name": "python",
   "nbconvert_exporter": "python",
   "pygments_lexer": "ipython3",
   "version": "3.10.2"
  },
  "orig_nbformat": 4
 },
 "nbformat": 4,
 "nbformat_minor": 2
}
